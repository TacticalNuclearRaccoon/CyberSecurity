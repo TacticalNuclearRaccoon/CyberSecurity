{
 "cells": [
  {
   "cell_type": "markdown",
   "id": "c790f5c3",
   "metadata": {},
   "source": [
    "# SQL injection vulnerability detector"
   ]
  },
  {
   "cell_type": "markdown",
   "id": "ae34c27f",
   "metadata": {},
   "source": [
    "A SQL injection is a serious vulnerability affecting applications that use SQL as their database language. Through cleverly constructed text inputs that modify the backend SQL query, the attacker can send malicious SQL commands to the database server. The most common goal is bulk extraction of knowledge. <br>\n",
    "SQL injection is carried out through user input. In order to scan for this vulnerability We can extract the web forms and check whether a web page has SQL errors in it."
   ]
  },
  {
   "cell_type": "code",
   "execution_count": 32,
   "id": "1de4cf56",
   "metadata": {},
   "outputs": [],
   "source": [
    "#importing dependencies\n",
    "import requests\n",
    "from bs4 import BeautifulSoup as bs\n",
    "import sys\n",
    "from urllib.parse import urljoin\n",
    "from pprint import pprint"
   ]
  },
  {
   "cell_type": "code",
   "execution_count": 2,
   "id": "d68d0f34",
   "metadata": {},
   "outputs": [],
   "source": [
    "# initialize an HTTP session & set the browser\n",
    "s = requests.Session()\n",
    "s.headers[\"User-Agent\"] = \"Mozilla/5.0 (Windows NT 10.0; Win64; x64) AppleWebKit/537.36 (KHTML, like Gecko) Chrome/87.0.4280.88 Safari/537.36\""
   ]
  },
  {
   "cell_type": "markdown",
   "id": "9815916a",
   "metadata": {},
   "source": [
    "## Functions"
   ]
  },
  {
   "cell_type": "markdown",
   "id": "300f2ec0",
   "metadata": {},
   "source": [
    "<ol>\n",
    "<li> The function get_all_forms() uses BeautifulSoup library to extract all form tags from HTML and returns them as a Python list. \n",
    "<li> get_form_details() function gets a single form tag object as an argument and parses useful information about the form, such as action (the target URL), method (GET, POST, etc) and all input field attributes (type, name and value).\n",
    "</ol>    "
   ]
  },
  {
   "cell_type": "code",
   "execution_count": 33,
   "id": "7a4799af",
   "metadata": {},
   "outputs": [],
   "source": [
    "def get_all_forms(url):\n",
    "    '''When given a URL, this function will make a request to a page and will extract and return \n",
    "    all the HTML form tags from it.\n",
    "    '''\n",
    "    soup = bs(s.get(url).content, \"html.parser\")\n",
    "    return soup.find_all(\"form\")"
   ]
  },
  {
   "cell_type": "code",
   "execution_count": 34,
   "id": "6d4a3986",
   "metadata": {},
   "outputs": [
    {
     "data": {
      "text/plain": [
       "[<form class=\"p-relative\" data-sm=\"false\" id=\"gcse-form\"><input aria-expanded=\"false\" class=\"gcse-search-input__wrapper\" id=\"gcse-search-input\"/>\n",
       " <i class=\"gfg-icon gfg-icon_times gfg-icon_white hide-search\"></i>\n",
       " <button class=\"gcse-search__btn not-expanded\">\n",
       " <i class=\"gfg-icon gfg-icon_search gfg-icon_white gcse-search__icon\"></i></button></form>]"
      ]
     },
     "execution_count": 34,
     "metadata": {},
     "output_type": "execute_result"
    }
   ],
   "source": [
    "get_all_forms(\"https://www.geeksforgeeks.org/python-programming-language/\")"
   ]
  },
  {
   "cell_type": "code",
   "execution_count": 36,
   "id": "98b03e7d",
   "metadata": {},
   "outputs": [
    {
     "name": "stdout",
     "output_type": "stream",
     "text": [
      "<class 'bs4.element.ResultSet'>\n"
     ]
    }
   ],
   "source": [
    "form = get_all_forms(\"https://www.geeksforgeeks.org/python-programming-language/\")\n",
    "print(type(form))"
   ]
  },
  {
   "cell_type": "code",
   "execution_count": 35,
   "id": "f74e1720",
   "metadata": {},
   "outputs": [],
   "source": [
    "def get_form_details(form):\n",
    "    \"\"\"\n",
    "    This function extracts all possible useful information about an HTML `form`\n",
    "    Like the list of tags for example\n",
    "    \"\"\"\n",
    "    # initialize empty dictionary\n",
    "    details = {}\n",
    "    # get the target url and store in a variable action (form action)\n",
    "    try:\n",
    "        action = form.attrs.get(\"action\").lower()\n",
    "    except:\n",
    "        action = None\n",
    "    # get the form method (POST, GET, etc.)\n",
    "    method = form.attrs.get(\"method\", \"get\").lower()\n",
    "    # get all the input details such as type and name\n",
    "    inputs = []\n",
    "    for input_tag in form.find_all(\"input\"):\n",
    "        input_type = input_tag.attrs.get(\"type\", \"text\")\n",
    "        input_name = input_tag.attrs.get(\"name\")\n",
    "        input_value = input_tag.attrs.get(\"value\", \"\")\n",
    "        inputs.append({\"type\": input_type, \"name\": input_name, \"value\": input_value})\n",
    "    # put everything to the resulting dictionary\n",
    "    details[\"action\"] = action\n",
    "    details[\"method\"] = method\n",
    "    details[\"inputs\"] = inputs\n",
    "    return details"
   ]
  },
  {
   "cell_type": "code",
   "execution_count": 37,
   "id": "eb3be807",
   "metadata": {},
   "outputs": [],
   "source": [
    "def is_vulnerable(response):\n",
    "    \"\"\"This function takes the response of a page as input and returns whether a page \n",
    "    is vulnerable to SQL injection and returns a boolean accordingly.\"\"\"\n",
    "    errors = {\n",
    "        # MySQL\n",
    "        \"you have an error in your sql syntax;\",\n",
    "        \"warning: mysql\",\n",
    "        # SQL Server\n",
    "        \"unclosed quotation mark after the character string\",\n",
    "        # Oracle\n",
    "        \"quoted string not properly terminated\",\n",
    "    }\n",
    "    for error in errors:\n",
    "        # if you find one of these errors, return True\n",
    "        if error in response.content.decode().lower():\n",
    "            return True\n",
    "    # if no error is detected\n",
    "    return False"
   ]
  },
  {
   "cell_type": "markdown",
   "id": "751f62f0",
   "metadata": {},
   "source": [
    "If the page has any syntax error, it is vulnerable. Despite the fact that there are a lot of database errors we will limit the search to Oracle and SQL Server Errors, because these two are mostly used."
   ]
  },
  {
   "cell_type": "code",
   "execution_count": 44,
   "id": "c28a4cc6",
   "metadata": {},
   "outputs": [],
   "source": [
    "def scan_sql_injection(url):\n",
    "    # test on URL\n",
    "    for c in \"\\\"'\":\n",
    "        # add quote/double quote character to the URL\n",
    "        new_url = f\"{url}{c}\"\n",
    "        print(\"[!] Trying\", new_url)\n",
    "        # make the HTTP request\n",
    "        res = s.get(new_url)\n",
    "        if is_vulnerable(res):\n",
    "            # SQL Injection detected on the URL itself, \n",
    "            # no need to preceed for extracting forms and submitting them\n",
    "            print(\"[+] SQL Injection vulnerability detected, link:\", new_url)\n",
    "            return\n",
    "    # test on HTML forms\n",
    "    forms = get_all_forms(url)\n",
    "    print(f\"[+] Detected {len(forms)} forms on {url}.\")\n",
    "    for form in forms:\n",
    "        form_details = get_form_details(form)\n",
    "        for c in \"\\\"'\":\n",
    "            # the data body we want to submit\n",
    "            data = {}\n",
    "            for input_tag in form_details[\"inputs\"]:\n",
    "                if input_tag[\"value\"] or input_tag[\"type\"] == \"hidden\":\n",
    "                    # any input form that has some value or hidden,\n",
    "                    # just use it in the form body\n",
    "                    try:\n",
    "                        data[input_tag[\"name\"]] = input_tag[\"value\"] + c\n",
    "                    except:\n",
    "                        pass\n",
    "                elif input_tag[\"type\"] != \"submit\":\n",
    "                    # all others except submit, use some junk data with special character\n",
    "                    data[input_tag[\"name\"]] = f\"test{c}\"\n",
    "            # join the url with the action (form request URL)\n",
    "            url = urljoin(url, form_details[\"action\"])\n",
    "            if form_details[\"method\"] == \"post\":\n",
    "                res = s.post(url, data=data)\n",
    "            elif form_details[\"method\"] == \"get\":\n",
    "                res = s.get(url, params=data)\n",
    "            # test whether the resulting page is vulnerable\n",
    "            if is_vulnerable(res):\n",
    "                print(\"[+] SQL Injection vulnerability detected, link:\", url)\n",
    "                print(\"[+] Form:\")\n",
    "                pprint(form_details)\n",
    "            else:\n",
    "                print(\"[+] No vulnerability detected\")\n",
    "                break   "
   ]
  },
  {
   "cell_type": "markdown",
   "id": "04608c22",
   "metadata": {},
   "source": [
    "Testing on a site that is known to be vulnerable:\n",
    "url = \"http://testphp.vulnweb.com/artists.php?artist=1\""
   ]
  },
  {
   "cell_type": "code",
   "execution_count": 45,
   "id": "30193fcd",
   "metadata": {},
   "outputs": [
    {
     "name": "stdout",
     "output_type": "stream",
     "text": [
      "[!] Trying http://testphp.vulnweb.com/artists.php?artist=1\"\n",
      "[+] SQL Injection vulnerability detected, link: http://testphp.vulnweb.com/artists.php?artist=1\"\n"
     ]
    }
   ],
   "source": [
    "url = \"http://testphp.vulnweb.com/artists.php?artist=1\"\n",
    "scan_sql_injection(url)"
   ]
  },
  {
   "cell_type": "markdown",
   "id": "10352610",
   "metadata": {},
   "source": [
    "Using the function on another page."
   ]
  },
  {
   "cell_type": "code",
   "execution_count": 46,
   "id": "d43148ce",
   "metadata": {},
   "outputs": [
    {
     "name": "stdout",
     "output_type": "stream",
     "text": [
      "[!] Trying https://www.datasciencetech.institute/\"\n",
      "[!] Trying https://www.datasciencetech.institute/'\n",
      "[+] Detected 1 forms on https://www.datasciencetech.institute/.\n",
      "[+] No vulnerability detected\n"
     ]
    }
   ],
   "source": [
    "url_arg = \"https://www.datasciencetech.institute/\"\n",
    "scan_sql_injection(url_arg)"
   ]
  }
 ],
 "metadata": {
  "kernelspec": {
   "display_name": "Python 3 (ipykernel)",
   "language": "python",
   "name": "python3"
  },
  "language_info": {
   "codemirror_mode": {
    "name": "ipython",
    "version": 3
   },
   "file_extension": ".py",
   "mimetype": "text/x-python",
   "name": "python",
   "nbconvert_exporter": "python",
   "pygments_lexer": "ipython3",
   "version": "3.8.12"
  }
 },
 "nbformat": 4,
 "nbformat_minor": 5
}
